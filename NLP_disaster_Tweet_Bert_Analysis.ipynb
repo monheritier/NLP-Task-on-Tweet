{
  "metadata": {
    "kernelspec": {
      "language": "python",
      "display_name": "Python 3",
      "name": "python3"
    },
    "language_info": {
      "name": "python",
      "version": "3.10.13",
      "mimetype": "text/x-python",
      "codemirror_mode": {
        "name": "ipython",
        "version": 3
      },
      "pygments_lexer": "ipython3",
      "nbconvert_exporter": "python",
      "file_extension": ".py"
    },
    "kaggle": {
      "accelerator": "nvidiaTeslaT4",
      "dataSources": [
        {
          "sourceId": 17777,
          "databundleVersionId": 869809,
          "sourceType": "competition"
        }
      ],
      "dockerImageVersionId": 30648,
      "isInternetEnabled": true,
      "language": "python",
      "sourceType": "notebook",
      "isGpuEnabled": true
    },
    "colab": {
      "name": "NLP disaster Tweet-Bert Analysis",
      "provenance": [],
      "include_colab_link": true
    }
  },
  "nbformat_minor": 0,
  "nbformat": 4,
  "cells": [
    {
      "cell_type": "markdown",
      "metadata": {
        "id": "view-in-github",
        "colab_type": "text"
      },
      "source": [
        "<a href=\"https://colab.research.google.com/github/monheritier/NLP-Task-on-Tweet/blob/main/NLP_disaster_Tweet_Bert_Analysis.ipynb\" target=\"_parent\"><img src=\"https://colab.research.google.com/assets/colab-badge.svg\" alt=\"Open In Colab\"/></a>"
      ]
    },
    {
      "source": [
        "import os\n",
        "import sys\n",
        "from tempfile import NamedTemporaryFile\n",
        "from urllib.request import urlopen\n",
        "from urllib.parse import unquote, urlparse\n",
        "from urllib.error import HTTPError\n",
        "from zipfile import ZipFile\n",
        "import tarfile\n",
        "import shutil\n",
        "\n",
        "CHUNK_SIZE = 40960\n",
        "DATA_SOURCE_MAPPING = 'nlp-getting-started:https%3A%2F%2Fstorage.googleapis.com%2Fkaggle-competitions-data%2Fkaggle-v2%2F17777%2F869809%2Fbundle%2Farchive.zip%3FX-Goog-Algorithm%3DGOOG4-RSA-SHA256%26X-Goog-Credential%3Dgcp-kaggle-com%2540kaggle-161607.iam.gserviceaccount.com%252F20240213%252Fauto%252Fstorage%252Fgoog4_request%26X-Goog-Date%3D20240213T202335Z%26X-Goog-Expires%3D259200%26X-Goog-SignedHeaders%3Dhost%26X-Goog-Signature%3D044c01ad781494ca6a341298aec2b92f2391cc8e8e511c7146919e462fe972f8207087dcbf550d163dbb84928f209d63fb0669d07ab9385d0613e610ad39308931ff179440aa91e9dc7bcd53eca1c45e29408e763087041ecf29ac9d1f3c735317ef3982fed6abd7549d04bd7528e016bbfb8c29e857c84dc53d5787f91c6ee83b0fa2c0192d26127b29148b00ca0a121175178ad28e8197a8a6d95c92ae9f76ab13dc06105ec0ab419d782fae8861846646b886974539722139e742fa164e9a5ea8d26d9bc82c680cf95c8983cd77ee50fc1be825c7210454b0d708b624457c6a6b5327be493d801bf7c86bf7cdab42b444d1bf54af93f427331e79c7e4aa9f'\n",
        "\n",
        "KAGGLE_INPUT_PATH='/kaggle/input'\n",
        "KAGGLE_WORKING_PATH='/kaggle/working'\n",
        "KAGGLE_SYMLINK='kaggle'\n",
        "\n",
        "!umount /kaggle/input/ 2> /dev/null\n",
        "shutil.rmtree('/kaggle/input', ignore_errors=True)\n",
        "os.makedirs(KAGGLE_INPUT_PATH, 0o777, exist_ok=True)\n",
        "os.makedirs(KAGGLE_WORKING_PATH, 0o777, exist_ok=True)\n",
        "\n",
        "try:\n",
        "  os.symlink(KAGGLE_INPUT_PATH, os.path.join(\"..\", 'input'), target_is_directory=True)\n",
        "except FileExistsError:\n",
        "  pass\n",
        "try:\n",
        "  os.symlink(KAGGLE_WORKING_PATH, os.path.join(\"..\", 'working'), target_is_directory=True)\n",
        "except FileExistsError:\n",
        "  pass\n",
        "\n",
        "for data_source_mapping in DATA_SOURCE_MAPPING.split(','):\n",
        "    directory, download_url_encoded = data_source_mapping.split(':')\n",
        "    download_url = unquote(download_url_encoded)\n",
        "    filename = urlparse(download_url).path\n",
        "    destination_path = os.path.join(KAGGLE_INPUT_PATH, directory)\n",
        "    try:\n",
        "        with urlopen(download_url) as fileres, NamedTemporaryFile() as tfile:\n",
        "            total_length = fileres.headers['content-length']\n",
        "            print(f'Downloading {directory}, {total_length} bytes compressed')\n",
        "            dl = 0\n",
        "            data = fileres.read(CHUNK_SIZE)\n",
        "            while len(data) > 0:\n",
        "                dl += len(data)\n",
        "                tfile.write(data)\n",
        "                done = int(50 * dl / int(total_length))\n",
        "                sys.stdout.write(f\"\\r[{'=' * done}{' ' * (50-done)}] {dl} bytes downloaded\")\n",
        "                sys.stdout.flush()\n",
        "                data = fileres.read(CHUNK_SIZE)\n",
        "            if filename.endswith('.zip'):\n",
        "              with ZipFile(tfile) as zfile:\n",
        "                zfile.extractall(destination_path)\n",
        "            else:\n",
        "              with tarfile.open(tfile.name) as tarfile:\n",
        "                tarfile.extractall(destination_path)\n",
        "            print(f'\\nDownloaded and uncompressed: {directory}')\n",
        "    except HTTPError as e:\n",
        "        print(f'Failed to load (likely expired) {download_url} to path {destination_path}')\n",
        "        continue\n",
        "    except OSError as e:\n",
        "        print(f'Failed to load {download_url} to path {destination_path}')\n",
        "        continue\n",
        "\n",
        "print('Data source import complete.')\n"
      ],
      "metadata": {
        "id": "qPXI31xRI6dk"
      },
      "cell_type": "code",
      "outputs": [],
      "execution_count": null
    },
    {
      "cell_type": "code",
      "source": [
        "import numpy as np # linear algebra\n",
        "import pandas as pd # data processing, CSV file I/O (e.g. pd.read_csv)\n",
        "import matplotlib as plt\n",
        "import tensorflow as tf\n",
        "import keras_core as keras\n",
        "import keras_nlp\n",
        "from tensorflow import keras\n",
        "from sklearn.metrics import ConfusionMatrixDisplay, confusion_matrix\n",
        "import seaborn as sns\n",
        "import matplotlib.pyplot as plt\n",
        "from sklearn.model_selection import train_test_split\n",
        "\n",
        "import os\n",
        "for dirname, _, filenames in os.walk('/kaggle/input'):\n",
        "    for filename in filenames:\n",
        "        print(os.path.join(dirname, filename))\n"
      ],
      "metadata": {
        "_uuid": "8f2839f25d086af736a60e9eeb907d3b93b6e0e5",
        "_cell_guid": "b1076dfc-b9ad-4769-8c92-a6c4dae69d19",
        "trusted": true,
        "id": "ZRtibHjmI6dn"
      },
      "execution_count": null,
      "outputs": []
    },
    {
      "cell_type": "markdown",
      "source": [
        "**EXPLORING DATASET**"
      ],
      "metadata": {
        "id": "hEFJshHUI6dn"
      }
    },
    {
      "cell_type": "code",
      "source": [
        "train = pd.read_csv(\"/kaggle/input/nlp-getting-started/train.csv\")\n",
        "test = pd.read_csv(\"/kaggle/input/nlp-getting-started/test.csv\")"
      ],
      "metadata": {
        "execution": {
          "iopub.status.busy": "2024-02-13T17:34:30.134394Z",
          "iopub.execute_input": "2024-02-13T17:34:30.135404Z",
          "iopub.status.idle": "2024-02-13T17:34:30.239823Z",
          "shell.execute_reply.started": "2024-02-13T17:34:30.135372Z",
          "shell.execute_reply": "2024-02-13T17:34:30.238808Z"
        },
        "trusted": true,
        "id": "u-22qQ_pI6do"
      },
      "execution_count": null,
      "outputs": []
    },
    {
      "cell_type": "code",
      "source": [
        "train.head(15)"
      ],
      "metadata": {
        "execution": {
          "iopub.status.busy": "2024-02-13T17:34:30.241123Z",
          "iopub.execute_input": "2024-02-13T17:34:30.24151Z",
          "iopub.status.idle": "2024-02-13T17:34:30.264089Z",
          "shell.execute_reply.started": "2024-02-13T17:34:30.241479Z",
          "shell.execute_reply": "2024-02-13T17:34:30.263077Z"
        },
        "trusted": true,
        "id": "5fwE3xMvI6do"
      },
      "execution_count": null,
      "outputs": []
    },
    {
      "cell_type": "markdown",
      "source": [
        "test.head(15)"
      ],
      "metadata": {
        "id": "C-E_1IrvI6dp"
      }
    },
    {
      "cell_type": "code",
      "source": [
        "test.head(15)"
      ],
      "metadata": {
        "execution": {
          "iopub.status.busy": "2024-02-13T17:34:30.266373Z",
          "iopub.execute_input": "2024-02-13T17:34:30.26668Z",
          "iopub.status.idle": "2024-02-13T17:34:30.278975Z",
          "shell.execute_reply.started": "2024-02-13T17:34:30.266655Z",
          "shell.execute_reply": "2024-02-13T17:34:30.277987Z"
        },
        "trusted": true,
        "id": "haO-L49aI6dp"
      },
      "execution_count": null,
      "outputs": []
    },
    {
      "cell_type": "code",
      "source": [
        "train[\"length\"] = train[\"text\"].apply(lambda x: len(x))\n",
        "test[\"length\"] = test[\"text\"].apply(lambda x : len(x))\n",
        "\n",
        "print(train[[\"text\", \"length\"]].head())\n",
        "print(test[[\"text\", \"length\"]].head())"
      ],
      "metadata": {
        "execution": {
          "iopub.status.busy": "2024-02-13T17:34:30.280217Z",
          "iopub.execute_input": "2024-02-13T17:34:30.280532Z",
          "iopub.status.idle": "2024-02-13T17:34:30.314387Z",
          "shell.execute_reply.started": "2024-02-13T17:34:30.280489Z",
          "shell.execute_reply": "2024-02-13T17:34:30.313215Z"
        },
        "trusted": true,
        "id": "LqVlko5-I6dp"
      },
      "execution_count": null,
      "outputs": []
    },
    {
      "cell_type": "code",
      "source": [
        "# Plotting Train Length Stat\n",
        "plt.figure(figsize=(10, 6))\n",
        "plt.subplot(1, 2, 1)\n",
        "plt.hist(train[\"length\"], bins=50, color='blue', edgecolor='black')\n",
        "plt.title('Train Data - Text Length Distribution')\n",
        "plt.xlabel('Text Length')\n",
        "plt.ylabel('Frequency')\n",
        "\n",
        "# Plotting Test Length Stat\n",
        "plt.subplot(1, 2, 2)\n",
        "plt.hist(test[\"length\"], bins=50, color='green', edgecolor='black')\n",
        "plt.title('Test Data - Text Length Distribution')\n",
        "plt.xlabel('Text Length')\n",
        "plt.ylabel('Frequency')\n",
        "\n",
        "# Adjust layout to prevent overlapping\n",
        "plt.tight_layout()\n",
        "\n",
        "# Show plots\n",
        "plt.show()"
      ],
      "metadata": {
        "execution": {
          "iopub.status.busy": "2024-02-13T17:34:30.317511Z",
          "iopub.execute_input": "2024-02-13T17:34:30.317792Z",
          "iopub.status.idle": "2024-02-13T17:34:31.003312Z",
          "shell.execute_reply.started": "2024-02-13T17:34:30.317769Z",
          "shell.execute_reply": "2024-02-13T17:34:31.002383Z"
        },
        "trusted": true,
        "id": "vFLN_0q-I6dp"
      },
      "execution_count": null,
      "outputs": []
    },
    {
      "cell_type": "markdown",
      "source": [
        "**BERT NLP TOKENIZATION TASK**"
      ],
      "metadata": {
        "id": "5BV6h79bI6dq"
      }
    },
    {
      "cell_type": "code",
      "source": [
        "batch_size = 64\n",
        "num_training_examples = train.shape[0]\n",
        "train_split = 0.8\n",
        "val_split = 0.2\n",
        "steps_per_epoch = int(num_training_examples) * train_split // batch_size\n",
        "\n",
        "epochs = 2\n",
        "auto = tf.data.experimental.AUTOTUNE"
      ],
      "metadata": {
        "execution": {
          "iopub.status.busy": "2024-02-13T17:34:31.004627Z",
          "iopub.execute_input": "2024-02-13T17:34:31.004903Z",
          "iopub.status.idle": "2024-02-13T17:34:31.009769Z",
          "shell.execute_reply.started": "2024-02-13T17:34:31.00488Z",
          "shell.execute_reply": "2024-02-13T17:34:31.00885Z"
        },
        "trusted": true,
        "id": "QF9qekTcI6dq"
      },
      "execution_count": null,
      "outputs": []
    },
    {
      "cell_type": "code",
      "source": [
        "X = train[\"text\"]\n",
        "y = train[\"target\"]\n",
        "\n",
        "X_train, X_val, y_train, y_val = train_test_split(X, y, test_size=val_split, random_state=42)\n",
        "\n",
        "X_test = test[\"text\"]"
      ],
      "metadata": {
        "execution": {
          "iopub.status.busy": "2024-02-13T17:34:31.011046Z",
          "iopub.execute_input": "2024-02-13T17:34:31.011345Z",
          "iopub.status.idle": "2024-02-13T17:34:31.023203Z",
          "shell.execute_reply.started": "2024-02-13T17:34:31.011321Z",
          "shell.execute_reply": "2024-02-13T17:34:31.022354Z"
        },
        "trusted": true,
        "id": "LbFKOPIZI6dq"
      },
      "execution_count": null,
      "outputs": []
    },
    {
      "cell_type": "code",
      "source": [
        "import torch\n",
        "from tqdm import tqdm\n",
        "from transformers import BertForSequenceClassification, BertTokenizer, get_linear_schedule_with_warmup\n",
        "from torch.utils.data import DataLoader, TensorDataset\n",
        "from sklearn.metrics import classification_report, confusion_matrix, f1_score\n",
        "from tqdm import tqdm"
      ],
      "metadata": {
        "execution": {
          "iopub.status.busy": "2024-02-13T17:34:31.024132Z",
          "iopub.execute_input": "2024-02-13T17:34:31.024441Z",
          "iopub.status.idle": "2024-02-13T17:34:36.861149Z",
          "shell.execute_reply.started": "2024-02-13T17:34:31.024407Z",
          "shell.execute_reply": "2024-02-13T17:34:36.860235Z"
        },
        "trusted": true,
        "id": "boaZfXQMI6dq"
      },
      "execution_count": null,
      "outputs": []
    },
    {
      "cell_type": "code",
      "source": [
        "tokenizer = BertTokenizer.from_pretrained('bert-large-uncased')\n",
        "model = BertForSequenceClassification.from_pretrained('bert-large-uncased', num_labels=2)\n",
        "\n",
        "# Tokenize and encode the training data\n",
        "train_inputs = tokenizer(list(X_train), padding=True, truncation=True, return_tensors='pt')\n",
        "train_labels = torch.tensor(list(y_train))"
      ],
      "metadata": {
        "execution": {
          "iopub.status.busy": "2024-02-13T17:34:36.863819Z",
          "iopub.execute_input": "2024-02-13T17:34:36.864436Z",
          "iopub.status.idle": "2024-02-13T17:34:50.846545Z",
          "shell.execute_reply.started": "2024-02-13T17:34:36.864407Z",
          "shell.execute_reply": "2024-02-13T17:34:50.845262Z"
        },
        "trusted": true,
        "id": "DDTLdISNI6dq"
      },
      "execution_count": null,
      "outputs": []
    },
    {
      "cell_type": "code",
      "source": [
        "val_inputs = tokenizer(list(X_val), padding=True, truncation=True, return_tensors='pt')\n",
        "val_labels = torch.tensor(list(y_val))\n",
        "\n",
        "# Tokenize and encode the test data\n",
        "test_inputs = tokenizer(list(test['text']), padding=True, truncation=True, return_tensors='pt')\n",
        "\n",
        "# Create DataLoader for efficient processing\n",
        "train_dataset = TensorDataset(train_inputs['input_ids'], train_inputs['attention_mask'], train_labels)\n",
        "val_dataset = TensorDataset(val_inputs['input_ids'], val_inputs['attention_mask'], val_labels)\n",
        "test_dataset = TensorDataset(test_inputs['input_ids'], test_inputs['attention_mask'])\n",
        "\n",
        "train_dataloader = DataLoader(train_dataset, batch_size=8, shuffle=True)\n",
        "val_dataloader = DataLoader(val_dataset, batch_size=8, shuffle=False)\n",
        "test_dataloader = DataLoader(test_dataset, batch_size=8, shuffle=False)"
      ],
      "metadata": {
        "execution": {
          "iopub.status.busy": "2024-02-13T17:34:50.848356Z",
          "iopub.execute_input": "2024-02-13T17:34:50.848866Z",
          "iopub.status.idle": "2024-02-13T17:34:55.408126Z",
          "shell.execute_reply.started": "2024-02-13T17:34:50.848826Z",
          "shell.execute_reply": "2024-02-13T17:34:55.407131Z"
        },
        "trusted": true,
        "id": "3JTRFH4UI6dq"
      },
      "execution_count": null,
      "outputs": []
    },
    {
      "cell_type": "code",
      "source": [
        "device = torch.device('cuda' if torch.cuda.is_available() else 'cpu')\n",
        "model.to(device)"
      ],
      "metadata": {
        "execution": {
          "iopub.status.busy": "2024-02-13T17:34:55.409291Z",
          "iopub.execute_input": "2024-02-13T17:34:55.40957Z",
          "iopub.status.idle": "2024-02-13T17:34:55.991401Z",
          "shell.execute_reply.started": "2024-02-13T17:34:55.409546Z",
          "shell.execute_reply": "2024-02-13T17:34:55.990406Z"
        },
        "trusted": true,
        "id": "nPpHyWSlI6dr"
      },
      "execution_count": null,
      "outputs": []
    },
    {
      "cell_type": "code",
      "source": [
        "optimizer = torch.optim.AdamW(model.parameters(), lr=1e-5)\n",
        "criterion = torch.nn.CrossEntropyLoss()\n",
        "# Gradient Clipping\n",
        "epochs = 3\n",
        "scheduler = get_linear_schedule_with_warmup(optimizer, num_warmup_steps=0, num_training_steps=len(train_dataloader) * epochs)\n",
        "\n",
        "max_grad_norm = 1.0\n",
        "\n",
        "# Training loop\n",
        "epochs = 3\n",
        "for epoch in range(epochs):\n",
        "    model.train()\n",
        "    for batch in tqdm(train_dataloader, desc=f'Epoch {epoch + 1}/{epochs}'):\n",
        "        batch = tuple(t.to(device) for t in batch)\n",
        "        inputs = {'input_ids': batch[0], 'attention_mask': batch[1], 'labels': batch[2]}\n",
        "        optimizer.zero_grad()\n",
        "        outputs = model(**inputs)\n",
        "        loss = criterion(outputs.logits, inputs['labels'])\n",
        "        loss.backward()\n",
        "        # Gradient Clipping\n",
        "        torch.nn.utils.clip_grad_norm_(model.parameters(), max_grad_norm)\n",
        "        optimizer.step()\n",
        "        scheduler.step()"
      ],
      "metadata": {
        "execution": {
          "iopub.status.busy": "2024-02-13T17:34:55.99272Z",
          "iopub.execute_input": "2024-02-13T17:34:55.993011Z",
          "iopub.status.idle": "2024-02-13T17:54:03.968897Z",
          "shell.execute_reply.started": "2024-02-13T17:34:55.992987Z",
          "shell.execute_reply": "2024-02-13T17:54:03.967983Z"
        },
        "trusted": true,
        "id": "IqfYM618I6dr"
      },
      "execution_count": null,
      "outputs": []
    },
    {
      "cell_type": "code",
      "source": [
        "model.eval()\n",
        "val_preds = []\n",
        "with torch.no_grad():\n",
        "    for batch in tqdm(val_dataloader, desc='Validation'):\n",
        "        batch = tuple(t.to(device) for t in batch)\n",
        "        inputs = {'input_ids': batch[0], 'attention_mask': batch[1], 'labels': batch[2]}\n",
        "        outputs = model(**inputs)\n",
        "        val_preds.extend(torch.argmax(outputs.logits, axis=1).cpu().numpy())\n",
        "\n",
        "# Evaluate the model\n",
        "print(\"Classification Report:\")\n",
        "print(classification_report(y_val, val_preds))\n",
        "print(\"Confusion Matrix:\")\n",
        "print(confusion_matrix(y_val, val_preds))\n",
        "print(\"F1 Score:\", f1_score(y_val, val_preds))"
      ],
      "metadata": {
        "execution": {
          "iopub.status.busy": "2024-02-13T17:54:03.970164Z",
          "iopub.execute_input": "2024-02-13T17:54:03.970488Z",
          "iopub.status.idle": "2024-02-13T17:54:25.98417Z",
          "shell.execute_reply.started": "2024-02-13T17:54:03.970461Z",
          "shell.execute_reply": "2024-02-13T17:54:25.983237Z"
        },
        "trusted": true,
        "id": "gQNVDZCXI6dr"
      },
      "execution_count": null,
      "outputs": []
    },
    {
      "cell_type": "markdown",
      "source": [
        "The F1 score in the provided output is 0.8188, indicating a good balance between precision and recall in the classification model."
      ],
      "metadata": {
        "id": "6ieETncFI6dr"
      }
    },
    {
      "cell_type": "code",
      "source": [
        "model.eval()\n",
        "test_preds = []\n",
        "with torch.no_grad():\n",
        "    for batch in tqdm(test_dataloader, desc='Testing'):\n",
        "        batch = tuple(t.to(device) for t in batch)\n",
        "        inputs = {'input_ids': batch[0], 'attention_mask': batch[1]}\n",
        "        outputs = model(**inputs)\n",
        "        test_preds.extend(torch.argmax(outputs.logits, axis=1).cpu().numpy())\n",
        "\n",
        "# Add predictions to the test_data DataFrame\n",
        "test['target'] = test_preds\n",
        "\n",
        "# Save the predictions to a CSV file\n",
        "test[['id', 'target']].to_csv('predictions_bert.csv', index=False)"
      ],
      "metadata": {
        "execution": {
          "iopub.status.busy": "2024-02-13T17:56:00.133123Z",
          "iopub.execute_input": "2024-02-13T17:56:00.133508Z",
          "iopub.status.idle": "2024-02-13T17:56:44.53885Z",
          "shell.execute_reply.started": "2024-02-13T17:56:00.133478Z",
          "shell.execute_reply": "2024-02-13T17:56:44.537911Z"
        },
        "trusted": true,
        "id": "i7_pUweHI6dr"
      },
      "execution_count": null,
      "outputs": []
    },
    {
      "cell_type": "code",
      "source": [
        "print(test[['id', 'target']].head(5))\n",
        "print(test['target'].value_counts())"
      ],
      "metadata": {
        "execution": {
          "iopub.status.busy": "2024-02-13T18:10:33.986291Z",
          "iopub.execute_input": "2024-02-13T18:10:33.986676Z",
          "iopub.status.idle": "2024-02-13T18:10:34.003117Z",
          "shell.execute_reply.started": "2024-02-13T18:10:33.986649Z",
          "shell.execute_reply": "2024-02-13T18:10:34.002083Z"
        },
        "trusted": true,
        "id": "xBPgnDLCI6dr"
      },
      "execution_count": null,
      "outputs": []
    },
    {
      "cell_type": "code",
      "source": [
        "import matplotlib.pyplot as plt\n",
        "from sklearn.metrics import confusion_matrix\n",
        "import seaborn as sns\n",
        "\n",
        "# Assuming you have already calculated the confusion matrix\n",
        "conf_matrix = confusion_matrix(y_val, val_preds)\n",
        "\n",
        "# Plot the confusion matrix\n",
        "plt.figure(figsize=(8, 6))\n",
        "sns.set(font_scale=1.2)  # Adjust font scale for better visualization\n",
        "sns.heatmap(conf_matrix, annot=True, fmt='d', cmap=\"Blues\", cbar=False,\n",
        "            xticklabels=[\"Not Disaster\",\"Disaster\"],\n",
        "            yticklabels=[\"Not Disaster\",\"Disaster\"])\n",
        "plt.xlabel('Predicted')\n",
        "plt.ylabel('Actual')\n",
        "plt.title('Confusion Matrix on Validation dataset')\n",
        "plt.show()"
      ],
      "metadata": {
        "execution": {
          "iopub.status.busy": "2024-02-13T18:05:53.270437Z",
          "iopub.execute_input": "2024-02-13T18:05:53.271059Z",
          "iopub.status.idle": "2024-02-13T18:05:53.43253Z",
          "shell.execute_reply.started": "2024-02-13T18:05:53.271027Z",
          "shell.execute_reply": "2024-02-13T18:05:53.431683Z"
        },
        "trusted": true,
        "id": "zLzl8U1eI6dr"
      },
      "execution_count": null,
      "outputs": []
    }
  ]
}